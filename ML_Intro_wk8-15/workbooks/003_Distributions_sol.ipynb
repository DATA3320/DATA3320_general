{
 "cells": [
  {
   "cell_type": "code",
   "execution_count": null,
   "metadata": {},
   "outputs": [],
   "source": []
  },
  {
   "cell_type": "markdown",
   "metadata": {},
   "source": [
    "# Distributions\n",
    "\n",
    "Distributions describe the shape of our data, or how many of the items have different values over the range. When dealing with large amounts of numerical data we often see that data fall into some sort of common pattern. For example, if you were to collect the heights of people (it would differ between men/women, so let's assume one sex for now) that you know, as you got more and more data, it is very likely that data would show a pattern. Chances are that most people would be somewhere around an average height, and as you go farther away from that average height there would be fewer and fewer people. Height will display a (close to) normal, or bell curve, distribution. \n",
    "\n",
    "As we saw last time, histograms are the primary tool for examining the distribution of our data. "
   ]
  },
  {
   "cell_type": "markdown",
   "metadata": {},
   "source": [
    "## Samples and Populations\n"
   ]
  },
  {
   "cell_type": "code",
   "execution_count": null,
   "metadata": {},
   "outputs": [],
   "source": []
  },
  {
   "cell_type": "markdown",
   "metadata": {},
   "source": [
    "### Normal Distribution\n",
    "\n",
    "Many common things in real life tend to fall into a normal distribution - a bell curve. The heights mentioned above are one example, as are shoe sizes, weights of adult chimps, and many other things that we see in the world. "
   ]
  },
  {
   "cell_type": "code",
   "execution_count": null,
   "metadata": {},
   "outputs": [],
   "source": []
  },
  {
   "cell_type": "markdown",
   "metadata": {},
   "source": [
    "#### Log-normal and Skewed Normal\n",
    "\n",
    "In addition to data that follows a normal distribution we also have lots of data that appears normal, but shifted in one direction or the other. This type of distribution is common for things like income - the distribution will look like a normal curve that is \"squished\" on the left hand side with a long tail going out to the right (the high earners). "
   ]
  },
  {
   "cell_type": "code",
   "execution_count": null,
   "metadata": {},
   "outputs": [],
   "source": []
  },
  {
   "cell_type": "markdown",
   "metadata": {},
   "source": [
    "### Exponential Distribution"
   ]
  },
  {
   "cell_type": "code",
   "execution_count": null,
   "metadata": {},
   "outputs": [],
   "source": []
  },
  {
   "cell_type": "markdown",
   "metadata": {},
   "source": []
  },
  {
   "cell_type": "code",
   "execution_count": null,
   "metadata": {},
   "outputs": [],
   "source": []
  },
  {
   "cell_type": "markdown",
   "metadata": {},
   "source": [
    "## Analytical Distributions\n",
    "\n",
    "When dealing with data we have been looking at emperical distributions - we count up all the data and see what that looks like as a distribution. When dealing with large amounts of data, or when dealing with scenarios in which we can't collects a large sample of data, we can often examine our data by looking at a matching representation of the data rather than the data itself. \n",
    "\n",
    "This representation is called an analytical distribution - a mathmatical formula that defines a distribution. "
   ]
  },
  {
   "cell_type": "markdown",
   "metadata": {},
   "source": [
    "## Cumulative Distributions"
   ]
  },
  {
   "cell_type": "code",
   "execution_count": null,
   "metadata": {},
   "outputs": [],
   "source": []
  },
  {
   "cell_type": "markdown",
   "metadata": {},
   "source": [
    "## Where Are We Now?\n",
    "\n",
    "At this point, we are hopefully becoming comfortable with:\n",
    "<ul>\n",
    "<li> Opening, running, and editing notebook files. \n",
    "<li> Loading data into a dataframe and starting to manipulate it. \n",
    "</ul>\n",
    "\n",
    "At this point, we are hopefully becoming somewhat comfortable with:\n",
    "<ul>\n",
    "<li> Creating appropriate visualizations to examine distributions. \n",
    "<li> Generating and understanding basic statistics.  \n",
    "<li> Relating emperical data from a sample to analytical distributions attempting to model a population.  \n",
    "</ul>"
   ]
  }
 ],
 "metadata": {
  "kernelspec": {
   "display_name": "Python 3.9.7 ('base')",
   "language": "python",
   "name": "python3"
  },
  "language_info": {
   "name": "python",
   "version": "3.9.7"
  },
  "orig_nbformat": 4,
  "vscode": {
   "interpreter": {
    "hash": "ea39297c2a3b8433e0e3c4b620aff79df88eb4bda961dfb2311fbafd7efdbd77"
   }
  }
 },
 "nbformat": 4,
 "nbformat_minor": 2
}
